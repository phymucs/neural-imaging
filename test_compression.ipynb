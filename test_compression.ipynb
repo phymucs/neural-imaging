{
 "cells": [
  {
   "cell_type": "code",
   "execution_count": null,
   "metadata": {},
   "outputs": [],
   "source": [
    "%load_ext autoreload\n",
    "%autoreload 2"
   ]
  },
  {
   "cell_type": "code",
   "execution_count": null,
   "metadata": {},
   "outputs": [],
   "source": [
    "import io\n",
    "import os\n",
    "\n",
    "# General purpose libraries\n",
    "import tqdm\n",
    "import imageio\n",
    "import numpy as np\n",
    "import pandas as pd\n",
    "import seaborn as sns\n",
    "import matplotlib.pyplot as plt\n",
    "from sewar.full_ref import msssim, psnr\n",
    "\n",
    "# Framework modules\n",
    "from helpers import coreutils, plotting"
   ]
  },
  {
   "cell_type": "code",
   "execution_count": null,
   "metadata": {},
   "outputs": [],
   "source": [
    "dirname = './data/kodak/'\n",
    "images = coreutils.listdir(dirname)\n",
    "images = images[:5]\n",
    "print('Found {} images'.format(len(images)))"
   ]
  },
  {
   "cell_type": "code",
   "execution_count": null,
   "metadata": {},
   "outputs": [],
   "source": [
    "quality_levels = np.arange(100, 10, -5)\n",
    "\n",
    "df = pd.DataFrame(columns=['image_id', 'filename', 'codec', 'quality', 'ssim', 'psnr', 'bpp'])\n",
    "\n",
    "with tqdm.tqdm(total=len(images) * len(quality_levels), ncols=120, desc='JPEG') as pbar:\n",
    "    \n",
    "    for image_id, filename in enumerate(images):\n",
    "        \n",
    "        for qi, q in enumerate(quality_levels):\n",
    "            \n",
    "            # Read the original image\n",
    "            image = imageio.imread(os.path.join(dirname, filename))\n",
    "            \n",
    "            # Compress to & read from memory\n",
    "            s = io.BytesIO()\n",
    "            imageio.imsave(s, image, format='jpg', quality=q)\n",
    "            image_compressed = imageio.imread(s.getvalue())\n",
    "            \n",
    "            df = df.append({'image_id': image_id,\n",
    "                            'filename': filename,\n",
    "                            'codec': 'jpeg',\n",
    "                            'quality': q,\n",
    "                            'ssim': msssim(image, image_compressed).real,\n",
    "                            'psnr': psnr(image, image_compressed),\n",
    "                            'bpp': 8 * len(s.getvalue()) / image.shape[0] / image.shape[1]\n",
    "                            }, ignore_index=True)\n",
    "        \n",
    "            pbar.set_postfix(image_id=image_id, quality=q)\n",
    "            pbar.update(1)"
   ]
  },
  {
   "cell_type": "code",
   "execution_count": null,
   "metadata": {},
   "outputs": [],
   "source": [
    "df"
   ]
  },
  {
   "cell_type": "code",
   "execution_count": null,
   "metadata": {},
   "outputs": [],
   "source": [
    "df[['ssim', 'bpp']]"
   ]
  },
  {
   "cell_type": "code",
   "execution_count": null,
   "metadata": {},
   "outputs": [],
   "source": [
    "fig, axes = plt.subplots(nrows=2, ncols=1, sharex=True)\n",
    "sns.lineplot(x='bpp', y='ssim', data=df, markers=True, ax=axes[0])\n",
    "sns.lineplot(x='bpp', y='psnr', data=df, markers=True, ax=axes[1])"
   ]
  },
  {
   "cell_type": "code",
   "execution_count": null,
   "metadata": {},
   "outputs": [],
   "source": [
    "plt.plot(metrics['bpp'][image_id], metrics['ssim'][image_id], 'o')"
   ]
  },
  {
   "cell_type": "code",
   "execution_count": null,
   "metadata": {},
   "outputs": [],
   "source": [
    "# Read the original image\n",
    "image = imageio.imread(os.path.join(dirname, filename))\n",
    "\n",
    "# Compress to & read from memory\n",
    "s = io.BytesIO()\n",
    "imageio.imsave(s, image, format='jpg', quality=10)\n",
    "image_compressed = imageio.imread(s.getvalue())\n",
    "\n",
    "img_bytes = len(s.getvalue())\n",
    "img_bpp = 8 * img_bytes / image.shape[0] / image.shape[1]\n",
    "img_ssim = msssim(image, image_compressed).real\n",
    "img_psnr = psnr(image, image_compressed)\n",
    "\n",
    "fig = plotting.imsc((image, image_compressed), ['Original {}', 'JPEG {:.0f} kB / bpp: {:.2f} -> {:.1f} dB / {:.2f}'.format(img_bytes / 1024, img_bpp, img_psnr, img_ssim)], figwidth=20)"
   ]
  },
  {
   "cell_type": "code",
   "execution_count": null,
   "metadata": {},
   "outputs": [],
   "source": [
    "imageio.help('jp2')"
   ]
  }
 ],
 "metadata": {
  "language_info": {
   "name": "python",
   "pygments_lexer": "ipython3"
  }
 },
 "nbformat": 4,
 "nbformat_minor": 2
}
